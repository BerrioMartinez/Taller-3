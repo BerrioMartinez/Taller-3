{
  "nbformat": 4,
  "nbformat_minor": 0,
  "metadata": {
    "colab": {
      "provenance": [],
      "authorship_tag": "ABX9TyNvpFgDF2vyIJapJ+f6Lryq",
      "include_colab_link": true
    },
    "kernelspec": {
      "name": "python3",
      "display_name": "Python 3"
    },
    "language_info": {
      "name": "python"
    }
  },
  "cells": [
    {
      "cell_type": "markdown",
      "metadata": {
        "id": "view-in-github",
        "colab_type": "text"
      },
      "source": [
        "<a href=\"https://colab.research.google.com/github/BerrioMartinez/Taller-3/blob/main/taller3.ipynb\" target=\"_parent\"><img src=\"https://colab.research.google.com/assets/colab-badge.svg\" alt=\"Open In Colab\"/></a>"
      ]
    },
    {
      "cell_type": "code",
      "execution_count": 1,
      "metadata": {
        "colab": {
          "base_uri": "https://localhost:8080/",
          "height": 130
        },
        "id": "_NYAHdYp1qQ1",
        "outputId": "8534a4ce-9fd9-416b-fb2d-73d55d8a7069"
      },
      "outputs": [
        {
          "output_type": "error",
          "ename": "IndentationError",
          "evalue": "ignored",
          "traceback": [
            "\u001b[0;36m  File \u001b[0;32m\"<ipython-input-1-0e209a31b233>\"\u001b[0;36m, line \u001b[0;32m18\u001b[0m\n\u001b[0;31m    if ==\"dentro de monteria\":\u001b[0m\n\u001b[0m    ^\u001b[0m\n\u001b[0;31mIndentationError\u001b[0m\u001b[0;31m:\u001b[0m unexpected indent\n"
          ]
        }
      ],
      "source": [
        " \n",
        " # intruducir informacion\n",
        " costo_vida = float(input(\"ingrese los costos de vida de estudiante:\"))\n",
        " estrato = int(input(\"estrato socioeconomico:\"))\n",
        " lugar_vive =  input(\"lugar de recidencia (en monteria o fuera de monteria):\")\n",
        " edad = int(input(\"ingrese su edad:\"))\n",
        " promedio_ponderado = float(input(\"ingrese promedio academico:\"))\n",
        "\n",
        " #variables\n",
        " gastos = 0\n",
        " transporte = 0\n",
        " alimentacion = 0\n",
        " matricula = 5000000\n",
        " apoyo_detransporte = 0\n",
        " apoyo_alimenticio = 0\n",
        " apoyo_matricula = 0\n",
        "\n",
        " # calcular costos dependiendo donde viva el estudiante\n",
        "  if == \"dentro de monteria\":\n",
        "    trasporte = 2800*20\n",
        "    else:\n",
        "      trasporte = 3500*2*20\n",
        "  # calcular costo de alimentacion del estudiante y aplicamos apoyo de chocolove\n",
        "  alimentacion = 20000*20\n",
        "  if estrato == 1:\n",
        "    if edad < 18:\n",
        "      apoyo = alimentacion*0.9\n",
        "      else:\n",
        "        apoyo = alimentacion+0.7\n",
        "        elif estrato == 2:\n",
        "          if edad < 18:\n",
        "    apoyo_alimentacion*0.7\n",
        "    else:\n",
        "      apoyo_alimentacion*0.5\n",
        "      elif estrato == 3:\n",
        "        if edad<18:\n",
        "          apoyo_alimentacion*0.5\n",
        "          else:\n",
        "            apoyo_alimentacio*0.3\n",
        "  #apoyo de chocolove para transporte segun estrato y edad\n",
        "  if estrato==1:\n",
        "    if edad<18:\n",
        "      apoyo_transporte=65000\n",
        "      else:\n",
        "        apoyo_transporte=50000\n",
        "        elif estrato==2:\n",
        "          if edad<18\n",
        "          apoyo_transporte=45000\n",
        "          else:\n",
        "            apoyo_transporte=3000\n",
        "            elif estrato==3:\n",
        "              if edad<18\n",
        "              apoyo_transporte=35000\n",
        "              else:\n",
        "                apoyo_transporte=2000\n",
        "  #aplicamos el apoyo chocolove a gastos totales\n",
        "  total_gastos=transporte+alimentacion+matricula\n",
        "  total_gastos-=apoyo_transporte\n",
        "  total_gastos-=apoyo_alimentacion\n",
        "\n",
        "  # calcular el apoyo de chocolove para la matricula segun el promedio ponderado\n",
        "  if promedio_ponderado>4.8:\n",
        "    apoyo_matricula=matricula\n",
        "    elif promedio_ponderado>=4.5 and\n",
        "    promedio-ponderado<4.8:\n",
        "    apoyo_matricula=matricula*0.7\n",
        "    elif promedio_ponderado>=4.0 and promedio_ponderado<4.5:\n",
        "      apoyo_matricula=matricula*0.4\n",
        "\n",
        "  # aplicamos el apoyo de chocolove\n",
        "  total_gastos-=apoyo_matricula\n",
        "  # calculamos gastos totales mensuales y los imprimo \n",
        "  gastos_total_mensual=total_gastos/4\n",
        "  print(\"el gasto total mensual estimado es de $\"gasto_total_mensual)\n",
        "\n"
      ]
    },
    {
      "cell_type": "markdown",
      "source": [],
      "metadata": {
        "id": "FS45790_6B1J"
      }
    }
  ]
}